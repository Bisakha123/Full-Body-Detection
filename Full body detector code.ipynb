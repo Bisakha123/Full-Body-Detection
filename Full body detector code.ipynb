{
 "cells": [
  {
   "cell_type": "code",
   "execution_count": 1,
   "id": "cb225257-186c-4308-808d-db225cec64a6",
   "metadata": {},
   "outputs": [],
   "source": [
    "import cv2\n",
    "import matplotlib.pyplot as plt"
   ]
  },
  {
   "cell_type": "code",
   "execution_count": 11,
   "id": "fdbdba82-cbbd-447c-8bbe-a15cc548e5ef",
   "metadata": {},
   "outputs": [
    {
     "data": {
      "text/plain": [
       "< cv2.CascadeClassifier 000001FB94994750>"
      ]
     },
     "metadata": {},
     "output_type": "display_data"
    }
   ],
   "source": [
    "full_detector  = cv2.CascadeClassifier('C:\\\\Users\\\\KIIT\\\\Acmegrade Machine Learning\\\\Project\\\\Full body detector\\\\fullbody.xml')\n",
    "display (full_detector)"
   ]
  },
  {
   "cell_type": "code",
   "execution_count": 13,
   "id": "f6c94d23-5179-450d-afb3-fbcaf7c57a73",
   "metadata": {},
   "outputs": [
    {
     "data": {
      "text/plain": [
       "(294, 626, 3)"
      ]
     },
     "metadata": {},
     "output_type": "display_data"
    }
   ],
   "source": [
    "image = cv2.imread('C:\\\\Users\\\\KIIT\\\\Acmegrade Machine Learning\\\\Project\\\\Full Body detector\\\\people3.jpg')\n",
    "display (image.shape)\n",
    "cv2.imshow('',image)\n",
    "cv2.waitKey(10000)\n",
    "plt.show()\n",
    "cv2.destroyAllWindows()"
   ]
  },
  {
   "cell_type": "code",
   "execution_count": 14,
   "id": "9e870893-d286-420a-b33d-fd3454eca7ce",
   "metadata": {},
   "outputs": [],
   "source": [
    "image_gray = cv2.cvtColor(image, cv2.COLOR_BGR2GRAY)\n",
    "detections = full_detector.detectMultiScale(image_gray, scaleFactor = 1.05, minNeighbors=5,    minSize = (50,50)) \n",
    "for (x, y, w, h) in detections:\n",
    "    cv2.rectangle(image, (x, y), (x + w, y + h), (0,255,0), 2)\n",
    "cv2.imshow('',image)\n",
    "cv2.waitKey(10000)\n",
    "plt.show()\n",
    "cv2.destroyAllWindows()"
   ]
  },
  {
   "cell_type": "code",
   "execution_count": 15,
   "id": "0d0045df-2e62-4112-b5dd-c43eab5c8a99",
   "metadata": {},
   "outputs": [],
   "source": [
    "#Haarcascade\n",
    "\n",
    "image = cv2.imread('C:\\\\Users\\\\KIIT\\\\Acmegrade Machine Learning\\\\Project\\\\Full body detector\\\\people3.jpg')\n",
    "image_gray = cv2.cvtColor(image, cv2.COLOR_BGR2GRAY)\n",
    "haarcascade_detector = cv2.CascadeClassifier('C:\\\\Users\\\\KIIT\\\\Acmegrade Machine Learning\\\\Project\\\\Full body detector\\\\haarcascade_frontalface_default.xml')\n",
    "detections = haarcascade_detector.detectMultiScale(image_gray, scaleFactor = 1.001, minNeighbors=5, minSize = (5,5))\n",
    "for (x, y, w, h) in detections:\n",
    "  cv2.rectangle(image, (x, y), (x + w, y + h), (0,255,0), 2)\n",
    "cv2.imshow('',image)\n",
    "cv2.waitKey(10000)\n",
    "plt.show()\n",
    "cv2.destroyAllWindows()"
   ]
  },
  {
   "cell_type": "code",
   "execution_count": null,
   "id": "a573418a-c263-4192-b15c-337b21bb2e0b",
   "metadata": {},
   "outputs": [],
   "source": []
  }
 ],
 "metadata": {
  "kernelspec": {
   "display_name": "Python 3 (ipykernel)",
   "language": "python",
   "name": "python3"
  },
  "language_info": {
   "codemirror_mode": {
    "name": "ipython",
    "version": 3
   },
   "file_extension": ".py",
   "mimetype": "text/x-python",
   "name": "python",
   "nbconvert_exporter": "python",
   "pygments_lexer": "ipython3",
   "version": "3.9.19"
  }
 },
 "nbformat": 4,
 "nbformat_minor": 5
}
